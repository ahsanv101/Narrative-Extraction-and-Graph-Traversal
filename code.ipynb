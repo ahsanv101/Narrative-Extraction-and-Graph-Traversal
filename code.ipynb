{
 "cells": [
  {
   "cell_type": "code",
   "execution_count": 64,
   "id": "9dc5f414",
   "metadata": {},
   "outputs": [],
   "source": [
    "import networkx as nx\n",
    "import re\n",
    "import json\n",
    "import os"
   ]
  },
  {
   "cell_type": "code",
   "execution_count": 7,
   "id": "5ac3cead",
   "metadata": {},
   "outputs": [],
   "source": [
    "# Function takes filename as input in text format and \n",
    "# returns a dictionary where the key is the subject of the triples and the values are all \n",
    "# the properties with objects\n",
    "\n",
    "\n",
    "def getDic(filename):\n",
    "    with open(filename, encoding=\"utf-8\") as f:\n",
    "        lines = f.readlines()\n",
    "\n",
    "    lines=  list(set(lines))\n",
    "\n",
    "    ddic={}\n",
    "    for i in lines:\n",
    "        i=i.strip('\\n')\n",
    "        sub=i.split(' ')[0].strip()\n",
    "    #     print(sub)\n",
    "        if sub not in ddic:\n",
    "            ddic[sub]=[' '.join(i.split(' ')[1:])]\n",
    "        else:\n",
    "    #         print(i,ddic[sub])\n",
    "            items=' '.join(i.split(' ')[1:])\n",
    "    #         print(items,' '.join(ddic[sub]),'\\n')\n",
    "    #         if items not in ' '.join(ddic[sub]):\n",
    "            ddic[sub].append(items)\n",
    "    return ddic\n"
   ]
  },
  {
   "cell_type": "code",
   "execution_count": 43,
   "id": "5a697596",
   "metadata": {},
   "outputs": [],
   "source": [
    "# This function takes a list of tuples as input. The list of tuples are in the order of \n",
    "# (subj, subj class, obj, obj class, property connecting subj and obj). Using the input, a graph is generated with the \n",
    "# required labels (attributes) of nodes and edges\n",
    "\n",
    "\n",
    "def addNodes(lst):\n",
    "    G = nx.Graph()\n",
    "    for i in lst:\n",
    "        subj = i[0]\n",
    "        subj_class = i[1]\n",
    "        obj=i[2]\n",
    "        obj_class=i[3]\n",
    "        edge_label=i[4]\n",
    "        G.add_node(subj, Class=subj_class)\n",
    "        G.add_node(obj, Class=obj_class)\n",
    "        G.add_edge(subj, obj, Label=edge_label)\n",
    "    \n",
    "    return G"
   ]
  },
  {
   "cell_type": "code",
   "execution_count": 39,
   "id": "ff5b1693",
   "metadata": {},
   "outputs": [],
   "source": [
    "# This function is used to extract quotes within strings. This is helpful in case of extracting labels of entities \n",
    "# so that they are human readable \n",
    "\n",
    "def getMatch(text):\n",
    "    matches = re.findall(r'\"(.+?)\"',text)\n",
    "    return \",\".join(matches)"
   ]
  },
  {
   "cell_type": "code",
   "execution_count": 40,
   "id": "0523b7cf",
   "metadata": {},
   "outputs": [],
   "source": [
    "# This function takes a dic and a property (with their subj obj classes as input) and basically extracts all the \n",
    "# relevent tripes of the property. Transforms the instances in a tuple structure (to avoid repetition in case any) and finally \n",
    "# saves them all in a list. This list is then passed to the 'addNodes' function to generate a graph.\n",
    "\n",
    "def genSubGraph(ddic,l):\n",
    "    nodes=set()\n",
    "    for key,value in ddic.items():\n",
    "        for i in value:\n",
    "            if l[2]==i.split(' ')[0]:\n",
    "#                     Here there is a special condition here which is looking at location created property. \n",
    "#                     This is present here only to cater to the NISV dataset since it as yet to properly define locations in their \n",
    "#                     dataset.\n",
    "                if l[2]=='sdo:locationCreated':\n",
    "                    loc= getMatch(i)\n",
    "                    loc= loc.split(' ')[0]\n",
    "                    nodes.add((key,l[0],loc,l[1],l[2]))\n",
    "                else:\n",
    "                    for j in i.split(' '):\n",
    "                        if 'gtaa:' in j:\n",
    "                            nodes.add((key,l[0],j,l[1],l[2]))\n",
    "                                \n",
    "\n",
    "    nodes=list(nodes)\n",
    "    return addNodes(nodes)\n",
    "\n",
    "\n"
   ]
  },
  {
   "cell_type": "code",
   "execution_count": 55,
   "id": "78cab670",
   "metadata": {},
   "outputs": [],
   "source": [
    "# This function takes a list of properties (with their classes defined) and returns a list of subgraphs for each of the property \n",
    "# in the list. At the first index of every item is the name of the property so we keep track of the subgraph types\n",
    "\n",
    "def genGraph(ddic,prop):\n",
    "    subg=[]\n",
    "    for p in prop:\n",
    "        s=genSubGraph(ddic,p)\n",
    "        subg.append([s,p[2]])\n",
    "    \n",
    "    return subg"
   ]
  },
  {
   "cell_type": "code",
   "execution_count": 59,
   "id": "592857f1",
   "metadata": {},
   "outputs": [],
   "source": [
    "# Here is where we take the list of subgraph and generate the eigenvector centrality score (importance according to important links)\n",
    "# for each of the nodes in each of the subgraphs iteratively. \n",
    "\n",
    "# The documentation for the function performing this computation can be found here:\n",
    "#  https://networkx.org/documentation/stable/reference/algorithms/generated/networkx.algorithms.centrality.eigenvector_centrality.html\n",
    "\n",
    "# This function returns a list of lists. The first item for each list is the name of the property and the second item \n",
    "# is the dictionary of scores. The key are the nodes and the value are the score generated by the computation\n",
    "\n",
    "def getScore(subg):\n",
    "    score=[]\n",
    "    for g in subg:\n",
    "        eigen = nx.eigenvector_centrality(g[0],max_iter=1500,tol=1.0e-5)\n",
    "        score.append([g[1],eigen])\n",
    "        \n",
    "    return score"
   ]
  },
  {
   "cell_type": "code",
   "execution_count": 70,
   "id": "ab0c7a62",
   "metadata": {},
   "outputs": [],
   "source": [
    "# Enmpties the directory of score we can write new score values if needed\n",
    "def emptyScoreDir():\n",
    "    dr = os.listdir('./score')\n",
    "    for file in dr:\n",
    "        os.remove('./score/'+file)"
   ]
  },
  {
   "cell_type": "code",
   "execution_count": 82,
   "id": "a52032ba",
   "metadata": {},
   "outputs": [],
   "source": [
    "# saves all the scores in the score directory (after emptying) in the form of json jumps. These are files are named\n",
    "# after each of the property we are using.\n",
    "\n",
    "def saveScores(s):\n",
    "    emptyScoreDir()\n",
    "    for score in s:\n",
    "        out_file = open(\"./score/\"+score[0].split(':')[1]+\".json\", \"w\")\n",
    "        json.dump(score[1], out_file)\n",
    "        out_file.close()"
   ]
  },
  {
   "cell_type": "code",
   "execution_count": null,
   "id": "abba2bf5",
   "metadata": {},
   "outputs": [],
   "source": [
    "# Here is when we start calling our functions:\n",
    "    \n",
    "    \n",
    "ddic = getDic('items2.txt')"
   ]
  },
  {
   "cell_type": "code",
   "execution_count": null,
   "id": "22eed249",
   "metadata": {},
   "outputs": [],
   "source": [
    "# ls = [['Creative Work','Person','sdo:byArtist'],['Creative Work','Organization','sdo:provider'],['Creative Work','Thing','sdo:genre'],['Creative Work','Person','sdo:creator'],['Creative Work','Person','sdo:mentions'],['Creative Work','Location','sdo:locationCreated'],['Creative Work','Organization','sdo:productionCompany']]\n",
    "# ls = [['Creative Work','Person','sdo:byArtist'],['Creative Work','Organization','sdo:provider'],['Creative Work','Thing','sdo:genre'],['Creative Work','Location','sdo:locationCreated'],['Creative Work','Organization','sdo:productionCompany'],['Creative Work','Person','sdo:creator']]\n",
    "ls = [['Creative Work','Person','sdo:byArtist'],['Creative Work','Person','sdo:creator'],['Creative Work','Person','sdo:mentions']]\n",
    "G=genGraph(ddic,ls)"
   ]
  },
  {
   "cell_type": "code",
   "execution_count": 83,
   "id": "c5aa94ef",
   "metadata": {},
   "outputs": [],
   "source": [
    "s = getScore(G)\n",
    "saveScores(s)"
   ]
  }
 ],
 "metadata": {
  "kernelspec": {
   "display_name": "Python 3 (ipykernel)",
   "language": "python",
   "name": "python3"
  },
  "language_info": {
   "codemirror_mode": {
    "name": "ipython",
    "version": 3
   },
   "file_extension": ".py",
   "mimetype": "text/x-python",
   "name": "python",
   "nbconvert_exporter": "python",
   "pygments_lexer": "ipython3",
   "version": "3.11.3"
  }
 },
 "nbformat": 4,
 "nbformat_minor": 5
}

{
 "cells": [
  {
   "cell_type": "code",
   "execution_count": 29,
   "id": "672e2e57",
   "metadata": {},
   "outputs": [],
   "source": [
    "import networkx as nx\n",
    "import re\n",
    "import json\n",
    "import os\n",
    "from random import choice"
   ]
  },
  {
   "cell_type": "code",
   "execution_count": 4,
   "id": "3dd33d01",
   "metadata": {},
   "outputs": [],
   "source": [
    "# Function takes filename as input in text format and \n",
    "# returns a dictionary where the key is the subject of the triples and the values are all \n",
    "# the properties with objects\n",
    "\n",
    "\n",
    "def getDic(filename):\n",
    "    with open(filename, encoding=\"utf-8\") as f:\n",
    "        lines = f.readlines()\n",
    "\n",
    "    lines=  list(set(lines))\n",
    "\n",
    "    ddic={}\n",
    "    for i in lines:\n",
    "        i=i.strip('\\n')\n",
    "        sub=i.split(' ')[0].strip()\n",
    "    #     print(sub)\n",
    "        if sub not in ddic:\n",
    "            ddic[sub]=[' '.join(i.split(' ')[1:])]\n",
    "        else:\n",
    "    #         print(i,ddic[sub])\n",
    "            items=' '.join(i.split(' ')[1:])\n",
    "    #         print(items,' '.join(ddic[sub]),'\\n')\n",
    "    #         if items not in ' '.join(ddic[sub]):\n",
    "            ddic[sub].append(items)\n",
    "    return ddic\n"
   ]
  },
  {
   "cell_type": "code",
   "execution_count": 5,
   "id": "f761bc3d",
   "metadata": {},
   "outputs": [],
   "source": [
    "# This function takes a list of tuples as input. The list of tuples are in the order of \n",
    "# (subj, subj class, obj, obj class, property connecting subj and obj). Using the input, a graph is generated with the \n",
    "# required labels (attributes) of nodes and edges\n",
    "\n",
    "\n",
    "def addNodes(lst):\n",
    "    G = nx.Graph()\n",
    "    for i in lst:\n",
    "        subj = i[0]\n",
    "        subj_class = i[1]\n",
    "        obj=i[2]\n",
    "        obj_class=i[3]\n",
    "        edge_label=i[4]\n",
    "        G.add_node(subj, Class=subj_class)\n",
    "        G.add_node(obj, Class=obj_class)\n",
    "        G.add_edge(subj, obj, Label=edge_label)\n",
    "    \n",
    "    return G"
   ]
  },
  {
   "cell_type": "code",
   "execution_count": 6,
   "id": "1d2525f6",
   "metadata": {},
   "outputs": [],
   "source": [
    "# This function is used to extract quotes within strings. This is helpful in case of extracting labels of entities \n",
    "# so that they are human readable \n",
    "\n",
    "def getMatch(text):\n",
    "    matches = re.findall(r'\"(.+?)\"',text)\n",
    "    return \",\".join(matches)"
   ]
  },
  {
   "cell_type": "code",
   "execution_count": 7,
   "id": "880a8f73",
   "metadata": {},
   "outputs": [],
   "source": [
    "# This function takes a dic and a property (with their subj obj classes as input) and basically extracts all the \n",
    "# relevent tripes of the property. Transforms the instances in a tuple structure (to avoid repetition in case any) and finally \n",
    "# saves them all in a list. This list is then passed to the 'addNodes' function to generate a graph.\n",
    "\n",
    "def genSubGraph(ddic,l):\n",
    "    nodes=set()\n",
    "    for key,value in ddic.items():\n",
    "        for i in value:\n",
    "            if l[2]==i.split(' ')[0]:\n",
    "#                     Here there is a special condition here which is looking at location created property. \n",
    "#                     This is present here only to cater to the NISV dataset since it as yet to properly define locations in their \n",
    "#                     dataset.\n",
    "                if l[2]=='sdo:locationCreated':\n",
    "                    loc= getMatch(i)\n",
    "                    loc= loc.split(' ')[0]\n",
    "                    nodes.add((key,l[0],loc,l[1],l[2]))\n",
    "                else:\n",
    "                    for j in i.split(' '):\n",
    "                        if 'gtaa:' in j:\n",
    "                            nodes.add((key,l[0],j,l[1],l[2]))\n",
    "                                \n",
    "\n",
    "    nodes=list(nodes)\n",
    "    return addNodes(nodes)\n",
    "\n",
    "\n"
   ]
  },
  {
   "cell_type": "code",
   "execution_count": 8,
   "id": "941bcd22",
   "metadata": {},
   "outputs": [],
   "source": [
    "# This function takes a list of properties (with their classes defined) and returns a list of subgraphs for each of the property \n",
    "# in the list. At the first index of every item is the name of the property so we keep track of the subgraph types\n",
    "\n",
    "def genGraph(ddic,prop):\n",
    "    subg={}\n",
    "    for p in prop:\n",
    "        s=genSubGraph(ddic,p)\n",
    "        filename=p[2].split(':')[1]\n",
    "        subg[filename]=s\n",
    "#         subg.append([s,p[2]])\n",
    "    \n",
    "    return subg"
   ]
  },
  {
   "cell_type": "code",
   "execution_count": 9,
   "id": "360fa5c2",
   "metadata": {},
   "outputs": [],
   "source": [
    "# Here is where we take the list of subgraph and generate the eigenvector centrality score (importance according to important links)\n",
    "# for each of the nodes in each of the subgraphs iteratively. \n",
    "\n",
    "# The documentation for the function performing this computation can be found here:\n",
    "#  https://networkx.org/documentation/stable/reference/algorithms/generated/networkx.algorithms.centrality.eigenvector_centrality.html\n",
    "\n",
    "# This function returns a list of lists. The first item for each list is the name of the property and the second item \n",
    "# is the dictionary of scores. The key are the nodes and the value are the score generated by the computation\n",
    "\n",
    "def getScore(subg):\n",
    "#     score=[]\n",
    "    score={}\n",
    "    for k,v in subg.items():\n",
    "        eigen = nx.eigenvector_centrality(v,max_iter=1500,tol=1.0e-5)\n",
    "        score[k]=eigen\n",
    "        \n",
    "    return score"
   ]
  },
  {
   "cell_type": "code",
   "execution_count": 10,
   "id": "5766729d",
   "metadata": {},
   "outputs": [],
   "source": [
    "# Enmpties the directory of score we can write new score values if needed\n",
    "def emptyScoreDir():\n",
    "    dr = os.listdir('./score')\n",
    "    for file in dr:\n",
    "        os.remove('./score/'+file)"
   ]
  },
  {
   "cell_type": "code",
   "execution_count": 11,
   "id": "15721a19",
   "metadata": {},
   "outputs": [],
   "source": [
    "# saves all the scores in the score directory (after emptying) in the form of json jumps. These are files are named\n",
    "# after each of the property we are using.\n",
    "\n",
    "def saveScores(s):\n",
    "    emptyScoreDir()\n",
    "    for k,v in s.items():\n",
    "#         print(k)\n",
    "        out_file = open(\"./score/\"+k+\".json\", \"w\")\n",
    "        json.dump(v, out_file)\n",
    "        out_file.close()\n",
    "        \n",
    "#     for score in s:\n",
    "#         out_file = open(\"./score/\"+score[0].split(':')[1]+\".json\", \"w\")\n",
    "#         json.dump(score[1], out_file)\n",
    "#         out_file.close()"
   ]
  },
  {
   "cell_type": "code",
   "execution_count": 120,
   "id": "eef3bb33",
   "metadata": {},
   "outputs": [],
   "source": [
    "def getAverage(filename):\n",
    "    \n",
    "    f = open('./score/'+filename) \n",
    "\n",
    "    data = json.load(f) \n",
    "    s=0\n",
    "    for k,v in data.items():\n",
    "        s=s+v\n",
    "    #     print(k,v)\n",
    "    average = s/len(data)\n",
    "    newD = {}\n",
    "    for k,v in data.items():\n",
    "        newD[k]=v/average\n",
    "\n",
    "    return newD\n",
    "\n",
    "def joinGraph(G):\n",
    "    lst=[]\n",
    "    av=[]\n",
    "    dr = os.listdir('./score')\n",
    "    for file in dr:\n",
    "        avg=getAverage(file)\n",
    "        filename = file.split('.')[0]\n",
    "        graph = G[filename]\n",
    "#         print(len(avg))\n",
    "#         print(graph)\n",
    "#         nx.set_node_attributes(graph,avg,name='score')\n",
    "        lst.append(graph)\n",
    "        av.append(avg)\n",
    "        \n",
    "#     finalGraph=nx.compose_all(lst)\n",
    "#     I can do this in terateive fasion and combine graphs 2 at a time as well as their scores\n",
    "# https://networkx.org/documentation/stable/reference/algorithms/generated/networkx.algorithms.operators.binary.compose.html#networkx.algorithms.operators.binary.compose\n",
    "    final= nx.compose_all(lst)\n",
    "    print(len(final))\n",
    "    \n",
    "    final_score={}\n",
    "    for node in list(final.nodes(data=True)):\n",
    "        sc=0\n",
    "        nname=node[0]\n",
    "        for d in av:\n",
    "            if d.get(nname) is not None:\n",
    "                sc = sc+ d[nname]\n",
    "            else:\n",
    "                sc= sc+0\n",
    "                \n",
    "        final_score[nname]=sc\n",
    "    \n",
    "    os.remove('./score/final_score.json')\n",
    "    out_file = open(\"./score/final_score.json\", \"w\")\n",
    "    json.dump(final_score, out_file)\n",
    "    out_file.close()\n",
    "        \n",
    "        \n",
    "        \n",
    "        \n",
    "        \n",
    "                \n",
    "#             if nname not in final_score:\n",
    "#                 final_score[nname]=sc\n",
    "#             else:\n",
    "#                 final_score[nname]=final_score[nname]+sc\n",
    "        \n",
    "    nx.set_node_attributes(final,final_score,name='score')\n",
    "    return final\n",
    "#     print(len(lst[2]))\n",
    "#     return dic"
   ]
  },
  {
   "cell_type": "code",
   "execution_count": 13,
   "id": "5fd775de",
   "metadata": {},
   "outputs": [],
   "source": [
    "# Here is when we start calling our functions:\n",
    "    \n",
    "ddic = getDic('./data/items2.txt')"
   ]
  },
  {
   "cell_type": "code",
   "execution_count": 14,
   "id": "c10cdfa6",
   "metadata": {},
   "outputs": [],
   "source": [
    "# ls = [['Creative Work','Person','sdo:byArtist'],['Creative Work','Organization','sdo:provider'],['Creative Work','Thing','sdo:genre'],['Creative Work','Person','sdo:creator'],['Creative Work','Person','sdo:mentions'],['Creative Work','Location','sdo:locationCreated'],['Creative Work','Organization','sdo:productionCompany']]\n",
    "# ls = [['Creative Work','Person','sdo:byArtist'],['Creative Work','Organization','sdo:provider'],['Creative Work','Thing','sdo:genre'],['Creative Work','Location','sdo:locationCreated'],['Creative Work','Organization','sdo:productionCompany'],['Creative Work','Person','sdo:creator']]\n",
    "ls = [['Creative Work','Person','sdo:byArtist'],['Creative Work','Person','sdo:creator'],['Creative Work','Person','sdo:mentions']]\n",
    "G=genGraph(ddic,ls)\n",
    "s = getScore(G)"
   ]
  },
  {
   "cell_type": "code",
   "execution_count": 68,
   "id": "8f9bbb5e",
   "metadata": {},
   "outputs": [],
   "source": [
    "saveScores(s)\n"
   ]
  },
  {
   "cell_type": "code",
   "execution_count": 24,
   "id": "15ec497f",
   "metadata": {},
   "outputs": [
    {
     "name": "stdout",
     "output_type": "stream",
     "text": [
      "266154\n"
     ]
    }
   ],
   "source": [
    "F=joinGraph(G)\n",
    "# When i am combining graphs i notice that if two nodes are the same and they are attached by different properties then the \n",
    "# weight gets overwritten by the label"
   ]
  },
  {
   "cell_type": "code",
   "execution_count": 110,
   "id": "a5b76f89",
   "metadata": {},
   "outputs": [],
   "source": [
    "def getLabel(key,ddic):\n",
    "    ndic={}\n",
    "    v = ddic[key]\n",
    "#     print(v)\n",
    "    for i in v:\n",
    "        \n",
    "        if 'skos:prefLabel'==i.split(' ')[0] or 'sdo:name'==i.split(' ')[0] or 'sdo:alternativeHeadline'==i.split(' ')[0] or ' rdfs:label'==i.split(' ')[0]:\n",
    "            loc= doit(i)\n",
    "            return loc\n",
    "        else:\n",
    "#             print(v)\n",
    "            return \"Not found\"\n",
    "            \n",
    "    return ndic\n",
    "\n",
    "def doit(text):      \n",
    "  \n",
    "  matches = re.findall(r'\"(.+?)\"',text)\n",
    "  # matches is now ['String 1', 'String 2', 'String3']\n",
    "  return \",\".join(matches)"
   ]
  },
  {
   "cell_type": "code",
   "execution_count": 118,
   "id": "3299f91a",
   "metadata": {},
   "outputs": [],
   "source": [
    "def getData(cw,F,ddic):\n",
    "    print('current node:',cw,'\\n')\n",
    "    newdic={}\n",
    "    for k,v in F[cw].items():\n",
    "        v=v['Label']\n",
    "        if v not in newdic:\n",
    "            newdic[v]=[k]\n",
    "        else:\n",
    "            newdic[v].append(k)\n",
    "    \n",
    "    for key,value in newdic.items():\n",
    "        print(key)\n",
    "        for i in value:\n",
    "            print(i)\n",
    "        print('\\n')\n",
    "        \n",
    "    print('highest = ',getHighScore(F[cw],F),'\\n')\n",
    "    return getHighScore(F[cw],F)\n",
    "    \n",
    "    \n",
    "def getHighScore(nbors,F):\n",
    "    score=0\n",
    "    for k,v in nbors.items():\n",
    "        if (F.nodes[k]['score']>score):\n",
    "            score = F.nodes[k]['score']\n",
    "    for k,v in nbors.items():\n",
    "        nscore=F.nodes[k]['score']\n",
    "        if nscore==score:\n",
    "            cw=k\n",
    "    return cw\n",
    "    \n",
    "\n",
    "def getChains(l,F,ddic):\n",
    "    n=0\n",
    "    while(n!=l):\n",
    "        \n",
    "        if n==0:\n",
    "            start=choice(list(F.nodes()))\n",
    "\n",
    "        if (F.nodes[start]['Class'] == 'Creative Work'):\n",
    "            cw=start\n",
    "            start =getData(cw,F,ddic)\n",
    "\n",
    "        else:\n",
    "            cw=''\n",
    "            nbors=F[start]\n",
    "            cw = getHighScore(nbors,F)\n",
    "            start =getData(cw,F,ddic)\n",
    "        n=n+1\n",
    "\n",
    "        \n",
    "\n",
    "    "
   ]
  },
  {
   "cell_type": "code",
   "execution_count": 119,
   "id": "a951aa39",
   "metadata": {},
   "outputs": [
    {
     "name": "stdout",
     "output_type": "stream",
     "text": [
      "current node: <http://data.beeldengeluid.nl/id/program/2101608140127482531> \n",
      "\n",
      "sdo:byArtist\n",
      "gtaa:114287\n",
      "\n",
      "\n",
      "highest =  gtaa:114287 \n",
      "\n",
      "current node: <http://data.beeldengeluid.nl/id/scene/2101702280762576124> \n",
      "\n",
      "sdo:byArtist\n",
      "gtaa:114287\n",
      "gtaa:101973\n",
      "\n",
      "\n",
      "sdo:creator\n",
      "gtaa:148182\n",
      "\n",
      "\n",
      "highest =  gtaa:148182 \n",
      "\n"
     ]
    }
   ],
   "source": [
    "getChains(2,F,ddic)"
   ]
  },
  {
   "cell_type": "code",
   "execution_count": 94,
   "id": "cf729ff9",
   "metadata": {},
   "outputs": [
    {
     "name": "stdout",
     "output_type": "stream",
     "text": [
      "gtaa:55158 305.7866904639572\n",
      "gtaa:1712296 2.711359497601111\n",
      "gtaa:261022 0.0016792905719149296\n"
     ]
    }
   ],
   "source": [
    "# for k, v in F['<http://data.beeldengeluid.nl/id/scene/2102203180968068824>'].items():\n",
    "#     print(k,F.nodes[k]['score'])\n",
    "\n",
    "# print(F.nodes['gtaa:1662509']['score'],F.nodes['gtaa:1671802']['score'],F.nodes['gtaa:261022']['score'])"
   ]
  },
  {
   "cell_type": "code",
   "execution_count": null,
   "id": "5cc006c8",
   "metadata": {},
   "outputs": [],
   "source": []
  }
 ],
 "metadata": {
  "kernelspec": {
   "display_name": "Python 3 (ipykernel)",
   "language": "python",
   "name": "python3"
  },
  "language_info": {
   "codemirror_mode": {
    "name": "ipython",
    "version": 3
   },
   "file_extension": ".py",
   "mimetype": "text/x-python",
   "name": "python",
   "nbconvert_exporter": "python",
   "pygments_lexer": "ipython3",
   "version": "3.11.3"
  }
 },
 "nbformat": 4,
 "nbformat_minor": 5
}
